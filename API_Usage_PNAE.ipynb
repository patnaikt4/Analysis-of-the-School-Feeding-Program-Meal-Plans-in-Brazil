{
  "nbformat": 4,
  "nbformat_minor": 0,
  "metadata": {
    "colab": {
      "provenance": []
    },
    "kernelspec": {
      "name": "python3",
      "display_name": "Python 3"
    },
    "language_info": {
      "name": "python"
    }
  },
  "cells": [
    {
      "cell_type": "code",
      "source": [
        "!pip install --upgrade pymupdf\n"
      ],
      "metadata": {
        "colab": {
          "base_uri": "https://localhost:8080/"
        },
        "id": "lFXw7HKR4tsg",
        "outputId": "c6b8a86f-c259-4395-97dc-5a2c9567e71a"
      },
      "execution_count": 3,
      "outputs": [
        {
          "output_type": "stream",
          "name": "stdout",
          "text": [
            "Collecting pymupdf\n",
            "  Downloading pymupdf-1.26.0-cp39-abi3-manylinux2014_x86_64.manylinux_2_17_x86_64.whl.metadata (3.4 kB)\n",
            "Downloading pymupdf-1.26.0-cp39-abi3-manylinux2014_x86_64.manylinux_2_17_x86_64.whl (24.1 MB)\n",
            "\u001b[2K   \u001b[90m━━━━━━━━━━━━━━━━━━━━━━━━━━━━━━━━━━━━━━━━\u001b[0m \u001b[32m24.1/24.1 MB\u001b[0m \u001b[31m59.4 MB/s\u001b[0m eta \u001b[36m0:00:00\u001b[0m\n",
            "\u001b[?25hInstalling collected packages: pymupdf\n",
            "Successfully installed pymupdf-1.26.0\n"
          ]
        }
      ]
    },
    {
      "cell_type": "code",
      "execution_count": 4,
      "metadata": {
        "colab": {
          "base_uri": "https://localhost:8080/"
        },
        "id": "qo4uI9Xo3wxk",
        "outputId": "4bf1e93b-459f-416d-aedb-9fefd23e3086"
      },
      "outputs": [
        {
          "output_type": "stream",
          "name": "stdout",
          "text": [
            "\n",
            "--- Analyzing SETEMBRO-BERCARIO(3).pdf ---\n",
            "Sexta-Feira: {'calories': 14398, 'protein': 1168.8999999999999, 'carbs': 1613.1, 'fat': 375.10000000000025}\n",
            "\n",
            "--- Analyzing SETEMBRO-EF-INTEGRAL.pdf ---\n",
            "Sexta-Feira: {'calories': 22868, 'protein': 2035.599999999999, 'carbs': 2118.2000000000003, 'fat': 714.4000000000002}\n",
            "\n",
            "--- Analyzing SETEMBRO-EF-PARCIAL.pdf ---\n",
            "Sexta-Feira: {'calories': 13447, 'protein': 1376.3000000000004, 'carbs': 915.5999999999999, 'fat': 493.30000000000035}\n",
            "\n",
            "--- Analyzing SETEMBRO-EI-INTEGRAL.pdf ---\n",
            "Sexta-Feira: {'calories': 14531, 'protein': 1151.3999999999996, 'carbs': 1674.1999999999998, 'fat': 371.10000000000025}\n",
            "\n",
            "--- Analyzing SETEMBRO-EI-PARCIAL.pdf ---\n",
            "Sexta-Feira: {'calories': 15357, 'protein': 1166.3999999999992, 'carbs': 1879.1999999999998, 'fat': 376.5000000000002}\n",
            "\n",
            "--- Analyzing JULHO-BERCARIO.xlsx-1(1).pdf ---\n",
            "Sexta-Feira: {'calories': 13350, 'protein': 995.3000000000002, 'carbs': 1646.5, 'fat': 320.7000000000003}\n",
            "\n",
            "--- Analyzing JULHO-EF-INTEGRAL.xlsx-1.pdf ---\n",
            "Sexta-Feira: {'calories': 20774, 'protein': 1774.599999999999, 'carbs': 2055.4, 'fat': 624.6000000000001}\n",
            "\n",
            "--- Analyzing JULHO-EF-PARCIAL.xlsx-1.pdf ---\n",
            "Sexta-Feira: {'calories': 12318, 'protein': 1180.8, 'carbs': 947.6999999999999, 'fat': 440.90000000000015}\n",
            "\n",
            "--- Analyzing JULHO-EI-INTEGRAL.xlsx-1.pdf ---\n",
            "Sexta-Feira: {'calories': 13282, 'protein': 992.7, 'carbs': 1632.5, 'fat': 319.7000000000003}\n",
            "\n",
            "--- Analyzing JULHO-EI-PARCIAL.xlsx-1.pdf ---\n",
            "Sexta-Feira: {'calories': 14108, 'protein': 1007.3000000000002, 'carbs': 1836.5, 'fat': 325.10000000000025}\n",
            "\n",
            "--- Analyzing JULHO-EF-PARCIAL_signed(1).pdf ---\n",
            "Sexta-Feira: {'calories': 13947, 'protein': 1392.3999999999996, 'carbs': 1003.5999999999999, 'fat': 511.10000000000014}\n",
            "\n",
            "--- Analyzing JULHO-BERCARIO_signed(1).pdf ---\n",
            "Sexta-Feira: {'calories': 12819, 'protein': 1110.6999999999998, 'carbs': 1379.5, 'fat': 337.10000000000014}\n",
            "\n",
            "--- Analyzing JULHO-EF-INTEGRAL_signed.pdf ---\n",
            "Sexta-Feira: {'calories': 21391, 'protein': 2008.7999999999981, 'carbs': 1837.2000000000003, 'fat': 699.7}\n",
            "\n",
            "--- Analyzing JULHO-EI-INTEGRAL.xlsx-1_signed.pdf ---\n",
            "Sexta-Feira: {'calories': 12703, 'protein': 1086.7, 'carbs': 1410.5, 'fat': 320.6000000000001}\n",
            "\n",
            "--- Analyzing JULHO-EI-PARCIAL.xlsx_signed.pdf ---\n",
            "Sexta-Feira: {'calories': 13522, 'protein': 1074.3000000000002, 'carbs': 1651.5, 'fat': 324.0}\n",
            "\n",
            "--- Analyzing MAIO-BERCARIO-PDF-ASSINADO(1).pdf ---\n",
            "Segunda-Feira: {'calories': 12943, 'protein': 1137.9999999999998, 'carbs': 1309.3000000000002, 'fat': 367.5000000000002}\n",
            "\n",
            "--- Analyzing MAIO-CARDAPIO-ENSINO-FUNDAMENTAL-INTEGRAL.pdf ---\n",
            "Sexta-Feira: {'calories': 3947, 'protein': 336.10000000000014, 'carbs': 334, 'fat': 154.89999999999998}\n",
            "Segunda-Feira: {'calories': 16341, 'protein': 1658.5, 'carbs': 1140.3, 'fat': 580.1000000000004}\n",
            "\n",
            "--- Analyzing MAIO-CARDAPIO-ENSINO-FUNDAMENTAL-PARCIAL.pdf ---\n",
            "Sexta-Feira: {'calories': 3499, 'protein': 322.90000000000003, 'carbs': 231, 'fat': 152.2}\n",
            "Segunda-Feira: {'calories': 10298, 'protein': 1123.0, 'carbs': 533.5999999999999, 'fat': 418.1000000000001}\n",
            "\n",
            "--- Analyzing MAIO-CARDAPIO-EDUCACAO-INFANTIL-INTEGRAL-CRECHE-E-PRE-ESCOLAR.pdf ---\n",
            "Sexta-Feira: {'calories': 820, 'protein': 36.0, 'carbs': 130, 'fat': 18.8}\n",
            "Segunda-Feira: {'calories': 11340, 'protein': 1005.0000000000002, 'carbs': 1055.6999999999998, 'fat': 361.6000000000001}\n",
            "\n",
            "--- Analyzing MAIO-CARDAPIO-EDUCACAO-INFANTIL-PARCIAL-CRECHE-E-PRE-ESCOLAR.pdf ---\n",
            "Sexta-Feira: {'calories': 1010, 'protein': 45.5, 'carbs': 160, 'fat': 19.0}\n",
            "Segunda-Feira: {'calories': 11728, 'protein': 1005.4000000000002, 'carbs': 1170.6999999999998, 'fat': 364.90000000000003}\n"
          ]
        }
      ],
      "source": [
        "import fitz  # PyMuPDF\n",
        "import os\n",
        "from collections import defaultdict\n",
        "\n",
        "# Mount your drive (run this once in Colab)\n",
        "# from google.colab import drive\n",
        "# drive.mount('/content/drive')\n",
        "\n",
        "# Path to your menus\n",
        "menu_dir = \"/content/drive/MyDrive/PNAE Gen AI Project/Menus for the State Alagoas\"\n",
        "\n",
        "# Simple Brazilian food nutrition DB (expand this!)\n",
        "nutrition_db = {\n",
        "    \"banana\": {\"calories\": 90, \"protein\": 1.1, \"carbs\": 23, \"fat\": 0.3},\n",
        "    \"goiaba\": {\"calories\": 68, \"protein\": 2.6, \"carbs\": 14, \"fat\": 1},\n",
        "    \"melancia\": {\"calories\": 30, \"protein\": 0.6, \"carbs\": 8, \"fat\": 0.2},\n",
        "    \"manga\": {\"calories\": 60, \"protein\": 0.8, \"carbs\": 15, \"fat\": 0.4},\n",
        "    \"arroz\": {\"calories\": 130, \"protein\": 2.5, \"carbs\": 28, \"fat\": 0.3},\n",
        "    \"feijão\": {\"calories\": 110, \"protein\": 7, \"carbs\": 20, \"fat\": 0.5},\n",
        "    \"frango\": {\"calories\": 165, \"protein\": 31, \"carbs\": 0, \"fat\": 3.6},\n",
        "    \"carne\": {\"calories\": 250, \"protein\": 26, \"carbs\": 0, \"fat\": 17},\n",
        "    \"fígado\": {\"calories\": 135, \"protein\": 20.4, \"carbs\": 3.9, \"fat\": 3.6},\n",
        "    \"peixe\": {\"calories\": 100, \"protein\": 20, \"carbs\": 0, \"fat\": 2},\n",
        "    \"batata doce\": {\"calories\": 86, \"protein\": 1.6, \"carbs\": 20, \"fat\": 0.1}\n",
        "}\n",
        "\n",
        "# Extract all text from a PDF\n",
        "def extract_text_from_pdf(pdf_path):\n",
        "    doc = fitz.open(pdf_path)\n",
        "    return \"\\n\".join([page.get_text() for page in doc])\n",
        "\n",
        "# Get nutrition estimate\n",
        "def estimate_nutrition(food_item):\n",
        "    nutrients = {\"calories\": 0, \"protein\": 0, \"carbs\": 0, \"fat\": 0}\n",
        "    for name in nutrition_db:\n",
        "        if name in food_item.lower():\n",
        "            return nutrition_db[name]\n",
        "    return nutrients\n",
        "\n",
        "# Parse menu text and analyze nutrition\n",
        "def analyze_menu(text):\n",
        "    days = [\"segunda-feira\", \"terça-feira\", \"quarta-feira\", \"quinta-feira\", \"sexta-feira\"]\n",
        "    menu_by_day = defaultdict(list)\n",
        "    current_day = None\n",
        "\n",
        "    for line in text.splitlines():\n",
        "        line_clean = line.strip().lower()\n",
        "        for day in days:\n",
        "            if day in line_clean:\n",
        "                current_day = day\n",
        "                break\n",
        "\n",
        "        if current_day and any(word in line_clean for word in nutrition_db):\n",
        "            menu_by_day[current_day].append(line_clean)\n",
        "\n",
        "    nutrition_summary = {}\n",
        "    for day, items in menu_by_day.items():\n",
        "        summary = {\"calories\": 0, \"protein\": 0, \"carbs\": 0, \"fat\": 0}\n",
        "        for item in items:\n",
        "            nutrients = estimate_nutrition(item)\n",
        "            for k in summary:\n",
        "                summary[k] += nutrients[k]\n",
        "        nutrition_summary[day.title()] = summary\n",
        "\n",
        "    return nutrition_summary\n",
        "\n",
        "# Run analysis on all PDFs in folder\n",
        "for file_name in os.listdir(menu_dir):\n",
        "    if file_name.endswith(\".pdf\"):\n",
        "        file_path = os.path.join(menu_dir, file_name)\n",
        "        print(f\"\\n--- Analyzing {file_name} ---\")\n",
        "        try:\n",
        "            text = extract_text_from_pdf(file_path)\n",
        "            report = analyze_menu(text)\n",
        "            for day, stats in report.items():\n",
        "                print(f\"{day}: {stats}\")\n",
        "        except Exception as e:\n",
        "            print(f\"Error processing {file_name}: {e}\")\n"
      ]
    },
    {
      "cell_type": "markdown",
      "source": [
        "# OpenAI API"
      ],
      "metadata": {
        "id": "nCpNl4Mn5SM1"
      }
    },
    {
      "cell_type": "markdown",
      "source": [
        "It was at this point where I realized that some calculations were going wrong and it was going to be very difficult in order to model all these foods by hand. Then I figured we could use an OpenAI Model in order to model the nutritional benefits of each meal"
      ],
      "metadata": {
        "id": "ZrMz44or-WdE"
      }
    },
    {
      "cell_type": "code",
      "source": [
        "import fitz  # PyMuPDF\n",
        "from openai import OpenAI\n",
        "import openai\n",
        "import re\n",
        "import json\n",
        "from collections import defaultdict\n",
        "\n",
        "# ✅ STEP 1: Load API Key securely (replace this with your actual key)\n",
        "OPENAI_API_KEY = \"\"\n",
        "client = OpenAI(api_key=OPENAI_API_KEY)\n",
        "\n",
        "def extract_json_from_gpt(raw_text):\n",
        "    # Remove markdown fences (```json ... ```)\n",
        "    cleaned = re.sub(r\"```json|```\", \"\", raw_text).strip()\n",
        "\n",
        "    # Remove units like \"g\" from numbers\n",
        "    cleaned = re.sub(r'(\\d+(?:\\.\\d+)?)\\s*g', r'\\1', cleaned)\n",
        "\n",
        "    return cleaned\n",
        "\n",
        "# ✅ STEP 2: Load and extract text from one PDF\n",
        "def extract_text_from_pdf(pdf_path):\n",
        "    doc = fitz.open(pdf_path)\n",
        "    return \"\\n\".join(page.get_text() for page in doc)\n",
        "\n",
        "# ✅ STEP 3: Separate by weekday\n",
        "def split_by_day(text):\n",
        "    days = [\"segunda-feira\", \"terça-feira\", \"quarta-feira\", \"quinta-feira\", \"sexta-feira\"]\n",
        "    day_blocks = defaultdict(str)\n",
        "    current_day = None\n",
        "\n",
        "    for line in text.splitlines():\n",
        "        line_clean = line.strip().lower()\n",
        "        for day in days:\n",
        "            if day in line_clean:\n",
        "                current_day = day\n",
        "                break\n",
        "        if current_day:\n",
        "            day_blocks[current_day] += line + \"\\n\"\n",
        "\n",
        "    return day_blocks\n",
        "\n",
        "def gpt_estimate_weekly_nutrition(menu_text, school_level=\"berçário\"):\n",
        "    prompt = f\"\"\"\n",
        "You are a nutritionist who specializes in early childhood school feeding.\n",
        "\n",
        "Below is a full weekly menu (Monday to Friday) for infants aged 6 to 12 months, with meals organized by day and by time of day.\n",
        "\n",
        "For each day of the week, estimate the total daily values of **calories**, **protein**, **carbohydrates**, and **fat**, assuming one standard portion per item appropriate for this age group.\n",
        "\n",
        "Return your answer as a JSON object, formatted exactly like this (without explanations or markdown):\n",
        "\n",
        "{{\n",
        "  \"Segunda-Feira\": {{\n",
        "    \"calories\": ...,\n",
        "    \"protein\": ...,\n",
        "    \"carbs\": ...,\n",
        "    \"fat\": ...\n",
        "  }},\n",
        "  \"Terça-Feira\": {{\n",
        "    ...\n",
        "  }},\n",
        "  ...\n",
        "  \"Sexta-Feira\": {{\n",
        "    ...\n",
        "  }}\n",
        "}}\n",
        "\n",
        "Menu:\n",
        "{menu_text}\n",
        "\"\"\"\n",
        "\n",
        "\n",
        "    try:\n",
        "        response = client.chat.completions.create(\n",
        "            model=\"gpt-3.5-turbo\",  # or gpt-4-turbo if/when available\n",
        "            messages=[\n",
        "                {\"role\": \"system\", \"content\": \"Você é um especialista em nutrição infantil e alimentação escolar.\"},\n",
        "                {\"role\": \"user\", \"content\": prompt}\n",
        "            ],\n",
        "            temperature=0,\n",
        "        )\n",
        "\n",
        "        reply = response.choices[0].message.content.strip()\n",
        "        cleaned = extract_json_from_gpt(reply)\n",
        "\n",
        "        # Try parsing as JSON\n",
        "        try:\n",
        "            return json.loads(cleaned)\n",
        "        except json.JSONDecodeError:\n",
        "            print(\"\\n⚠️ GPT response was not valid JSON. Here's what it said:\")\n",
        "            print(reply)\n",
        "            return None\n",
        "\n",
        "    except Exception as e:\n",
        "        print(f\"Error with GPT API: {e}\")\n",
        "        return None\n",
        "\n",
        "\n",
        "# ✅ STEP 5: Process ONE PDF\n",
        "pdf_path = \"/content/drive/MyDrive/PNAE Gen AI Project/Menus for the State Alagoas/JULHO-BERCARIO_signed(1).pdf\"\n",
        "text = extract_text_from_pdf(pdf_path)\n",
        "day_blocks = split_by_day(text)\n",
        "\n",
        "print(f\"\\n--- Nutrition Estimates for: {pdf_path.split('/')[-1]} ---\")\n",
        "result = gpt_estimate_weekly_nutrition(text)\n",
        "if result:\n",
        "    for day, stats in result.items():\n",
        "        print(f\"\\n{day}: {stats}\")\n",
        "else:\n",
        "    print(\"Error in estimating food quantities\")\n",
        "\n"
      ],
      "metadata": {
        "colab": {
          "base_uri": "https://localhost:8080/"
        },
        "id": "Ew_2Pj0wAjxW",
        "outputId": "1f2d02cb-8ed7-42ec-9f14-be739bf1064c"
      },
      "execution_count": 5,
      "outputs": [
        {
          "output_type": "stream",
          "name": "stdout",
          "text": [
            "\n",
            "--- Nutrition Estimates for: JULHO-BERCARIO_signed(1).pdf ---\n",
            "\n",
            "Segunda-Feira: {'calories': 450, 'protein': 18, 'carbs': 60, 'fat': 15}\n",
            "\n",
            "Terça-Feira: {'calories': 460, 'protein': 19, 'carbs': 65, 'fat': 16}\n",
            "\n",
            "Quarta-Feira: {'calories': 470, 'protein': 20, 'carbs': 70, 'fat': 17}\n",
            "\n",
            "Quinta-Feira: {'calories': 480, 'protein': 21, 'carbs': 75, 'fat': 18}\n",
            "\n",
            "Sexta-Feira: {'calories': 440, 'protein': 17, 'carbs': 55, 'fat': 14}\n"
          ]
        }
      ]
    },
    {
      "cell_type": "code",
      "source": [
        "# ✅ STEP 5: Process ONE PDF\n",
        "pdf_path = \"/content/drive/MyDrive/PNAE Gen AI Project/Menus for the State Alagoas/SETEMBRO-BERCARIO(3).pdf\"\n",
        "text = extract_text_from_pdf(pdf_path)\n",
        "day_blocks = split_by_day(text)\n",
        "\n",
        "print(f\"\\n--- Nutrition Estimates for: {pdf_path.split('/')[-1]} ---\")\n",
        "result = gpt_estimate_weekly_nutrition(text)\n",
        "if result:\n",
        "    for day, stats in result.items():\n",
        "        print(f\"\\n{day}: {stats}\")\n",
        "else:\n",
        "    print(\"Erro ao estimar nutrientes para a semana.\")"
      ],
      "metadata": {
        "colab": {
          "base_uri": "https://localhost:8080/"
        },
        "id": "JR8jhmNzAqfp",
        "outputId": "cb142742-0319-44e4-bd34-875d3d6750ed"
      },
      "execution_count": 9,
      "outputs": [
        {
          "output_type": "stream",
          "name": "stdout",
          "text": [
            "\n",
            "--- Nutrition Estimates for: SETEMBRO-BERCARIO(3).pdf ---\n",
            "\n",
            "Segunda-Feira: {'calories': 482.99, 'protein': 73.08, 'carbs': 224.86, 'fat': 18.86}\n",
            "\n",
            "Terça-Feira: {'calories': 482.99, 'protein': 73.08, 'carbs': 224.86, 'fat': 18.86}\n",
            "\n",
            "Quarta-Feira: {'calories': 636.11, 'protein': 218.91, 'carbs': 123.69, 'fat': 175.67}\n",
            "\n",
            "Quinta-Feira: {'calories': 642.34, 'protein': 102.5, 'carbs': 274.7, 'fat': 27.44}\n",
            "\n",
            "Sexta-Feira: {'calories': 742.38, 'protein': 168.52, 'carbs': 81.9, 'fat': 33.09}\n"
          ]
        }
      ]
    },
    {
      "cell_type": "code",
      "source": [],
      "metadata": {
        "id": "IN2gAhA2D92B"
      },
      "execution_count": null,
      "outputs": []
    }
  ]
}