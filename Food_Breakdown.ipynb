{
  "nbformat": 4,
  "nbformat_minor": 0,
  "metadata": {
    "colab": {
      "provenance": []
    },
    "kernelspec": {
      "name": "python3",
      "display_name": "Python 3"
    },
    "language_info": {
      "name": "python"
    }
  },
  "cells": [
    {
      "cell_type": "code",
      "source": [
        "!pip install --upgrade pymupdf\n"
      ],
      "metadata": {
        "colab": {
          "base_uri": "https://localhost:8080/"
        },
        "id": "lFXw7HKR4tsg",
        "outputId": "ca541c6c-8891-4d0c-f193-5d7af5e6f4b0"
      },
      "execution_count": 1,
      "outputs": [
        {
          "output_type": "stream",
          "name": "stdout",
          "text": [
            "Collecting pymupdf\n",
            "  Downloading pymupdf-1.26.0-cp39-abi3-manylinux2014_x86_64.manylinux_2_17_x86_64.whl.metadata (3.4 kB)\n",
            "Downloading pymupdf-1.26.0-cp39-abi3-manylinux2014_x86_64.manylinux_2_17_x86_64.whl (24.1 MB)\n",
            "\u001b[2K   \u001b[90m━━━━━━━━━━━━━━━━━━━━━━━━━━━━━━━━━━━━━━━━\u001b[0m \u001b[32m24.1/24.1 MB\u001b[0m \u001b[31m75.2 MB/s\u001b[0m eta \u001b[36m0:00:00\u001b[0m\n",
            "\u001b[?25hInstalling collected packages: pymupdf\n",
            "Successfully installed pymupdf-1.26.0\n"
          ]
        }
      ]
    },
    {
      "cell_type": "markdown",
      "source": [
        "# OpenAI API"
      ],
      "metadata": {
        "id": "nCpNl4Mn5SM1"
      }
    },
    {
      "cell_type": "code",
      "source": [
        "MAX_CHARS = 12000"
      ],
      "metadata": {
        "id": "7mDGa_6BojKP"
      },
      "execution_count": 6,
      "outputs": []
    },
    {
      "cell_type": "code",
      "source": [
        "import fitz  # PyMuPDF\n",
        "from openai import OpenAI\n",
        "import re\n",
        "import json\n",
        "import os\n",
        "\n",
        "# ✅ Load API Key\n",
        "OPENAI_API_KEY = \"\"\n",
        "client = OpenAI(api_key=OPENAI_API_KEY)\n",
        "\n",
        "# ✅ Extract raw text with PyMuPDF\n",
        "def extract_text_pymupdf(pdf_path):\n",
        "    doc = fitz.open(pdf_path)\n",
        "    return \"\\n\".join(page.get_text() for page in doc)\n",
        "\n",
        "# ✅ Clean up GPT response\n",
        "def extract_json_from_gpt(raw_text):\n",
        "    cleaned = re.sub(r\"```json|```\", \"\", raw_text).strip()\n",
        "    return cleaned\n",
        "\n",
        "def gpt_extract_food_counts_with_calories(menu_text):\n",
        "    menu_text = menu_text[:MAX_CHARS]\n",
        "    prompt = f\"\"\"\n",
        "You are a nutritionist reviewing a weekly school menu written in Portuguese. The menu may include foods served to children in nurseries, preschools, or elementary schools. Your job is to identify each food item and estimate its calorie content per standard child-sized portion.\n",
        "\n",
        "**Important: Always estimate the calories based on typical preparation methods in Brazil, even if not explicitly stated. Never return \"0 kcal\". Use common sense and nutrition knowledge.**\n",
        "\n",
        "Your output should be a single JSON dictionary. Each key must follow this format:\n",
        "**\"food name (XXX kcal)\"**\n",
        "Where `XXX` is your estimated number of kilocalories per serving.\n",
        "\n",
        "Each value in the dictionary should be the number of times that food appears in the text.\n",
        "\n",
        "Guidelines:\n",
        "- Keep food names in Portuguese (e.g., \"arroz\", \"feijão\", \"suco de maçã\")\n",
        "- Calorie values must be realistic estimates (e.g., \"arroz (40 kcal)\")\n",
        "- Distinguish similar items (e.g., \"suco de maçã\" vs \"suco de uva\")\n",
        "- Count all appearances; no duplicates\n",
        "- Output only valid JSON (no markdown or explanation)\n",
        "- An Item can never be 0 Calories because that is not possible\n",
        "\n",
        "Here is the menu:\n",
        "{menu_text}\n",
        "\"\"\"\n",
        "\n",
        "\n",
        "    try:\n",
        "        response = client.chat.completions.create(\n",
        "            model=\"gpt-3.5-turbo\",\n",
        "            messages=[\n",
        "                {\"role\": \"system\", \"content\": \"Você é um especialista em nutrição infantil.\"},\n",
        "                {\"role\": \"user\", \"content\": prompt}\n",
        "            ],\n",
        "            temperature=0,\n",
        "        )\n",
        "\n",
        "        reply = response.choices[0].message.content.strip()\n",
        "        cleaned = extract_json_from_gpt(reply)\n",
        "\n",
        "        try:\n",
        "            return json.loads(cleaned)\n",
        "        except json.JSONDecodeError:\n",
        "            print(\"⚠️ GPT returned invalid JSON:\")\n",
        "            print(reply)\n",
        "            return {}\n",
        "\n",
        "    except Exception as e:\n",
        "        print(f\"Error during GPT call: {e}\")\n",
        "        return {}\n",
        "\n"
      ],
      "metadata": {
        "id": "Ew_2Pj0wAjxW"
      },
      "execution_count": 9,
      "outputs": []
    },
    {
      "cell_type": "code",
      "source": [
        "# ✅ Batch process all PDFs in the folder\n",
        "folder_path = \"/content/drive/MyDrive/PNAE Gen AI Project/Menus for the State Alagoas\"\n",
        "results_by_file = {}\n",
        "\n",
        "for filename in os.listdir(folder_path):\n",
        "    if filename.endswith(\".pdf\"):\n",
        "        pdf_path = os.path.join(folder_path, filename)\n",
        "        print(f\"\\n📄 Processing: {filename}\")\n",
        "\n",
        "        try:\n",
        "            raw_text = extract_text_pymupdf(pdf_path)\n",
        "            cleaned_text = remove_reported_totals(raw_text)\n",
        "            result = gpt_extract_food_counts_with_calories(cleaned_text)\n",
        "            results_by_file[filename] = result\n",
        "\n",
        "            # Optional: print result\n",
        "            for item, count in result.items():\n",
        "                print(f\"{item}: {count}x\")\n",
        "\n",
        "        except Exception as e:\n",
        "            print(f\"⚠️ Failed on {filename}: {e}\")\n",
        "\n",
        "# ✅ Optionally save all results to JSON\n",
        "with open(\"district_food_summary.json\", \"w\", encoding=\"utf-8\") as f:\n",
        "    json.dump(results_by_file, f, ensure_ascii=False, indent=2)\n",
        "\n",
        "print(\"\\n✅ Done processing all PDFs.\")"
      ],
      "metadata": {
        "colab": {
          "base_uri": "https://localhost:8080/",
          "height": 456
        },
        "id": "fsQiWwbaeg4e",
        "outputId": "15b1a353-73cb-4d69-9e3f-559125a6db17"
      },
      "execution_count": 4,
      "outputs": [
        {
          "output_type": "stream",
          "name": "stdout",
          "text": [
            "\n",
            "📄 Processing: SETEMBRO-BERCARIO(3).pdf\n",
            "⚠️ Failed on SETEMBRO-BERCARIO(3).pdf: name 'remove_reported_totals' is not defined\n",
            "\n",
            "📄 Processing: SETEMBRO-EF-INTEGRAL.pdf\n"
          ]
        },
        {
          "output_type": "error",
          "ename": "KeyboardInterrupt",
          "evalue": "",
          "traceback": [
            "\u001b[0;31m---------------------------------------------------------------------------\u001b[0m",
            "\u001b[0;31mKeyboardInterrupt\u001b[0m                         Traceback (most recent call last)",
            "\u001b[0;32m<ipython-input-4-19ebd3cfbe38>\u001b[0m in \u001b[0;36m<cell line: 0>\u001b[0;34m()\u001b[0m\n\u001b[1;32m      9\u001b[0m \u001b[0;34m\u001b[0m\u001b[0m\n\u001b[1;32m     10\u001b[0m         \u001b[0;32mtry\u001b[0m\u001b[0;34m:\u001b[0m\u001b[0;34m\u001b[0m\u001b[0;34m\u001b[0m\u001b[0m\n\u001b[0;32m---> 11\u001b[0;31m             \u001b[0mraw_text\u001b[0m \u001b[0;34m=\u001b[0m \u001b[0mextract_text_pymupdf\u001b[0m\u001b[0;34m(\u001b[0m\u001b[0mpdf_path\u001b[0m\u001b[0;34m)\u001b[0m\u001b[0;34m\u001b[0m\u001b[0;34m\u001b[0m\u001b[0m\n\u001b[0m\u001b[1;32m     12\u001b[0m             \u001b[0mcleaned_text\u001b[0m \u001b[0;34m=\u001b[0m \u001b[0mremove_reported_totals\u001b[0m\u001b[0;34m(\u001b[0m\u001b[0mraw_text\u001b[0m\u001b[0;34m)\u001b[0m\u001b[0;34m\u001b[0m\u001b[0;34m\u001b[0m\u001b[0m\n\u001b[1;32m     13\u001b[0m             \u001b[0mresult\u001b[0m \u001b[0;34m=\u001b[0m \u001b[0mgpt_extract_food_counts_with_calories\u001b[0m\u001b[0;34m(\u001b[0m\u001b[0mcleaned_text\u001b[0m\u001b[0;34m)\u001b[0m\u001b[0;34m\u001b[0m\u001b[0;34m\u001b[0m\u001b[0m\n",
            "\u001b[0;32m<ipython-input-2-3b89a25bf212>\u001b[0m in \u001b[0;36mextract_text_pymupdf\u001b[0;34m(pdf_path)\u001b[0m\n\u001b[1;32m     12\u001b[0m \u001b[0;32mdef\u001b[0m \u001b[0mextract_text_pymupdf\u001b[0m\u001b[0;34m(\u001b[0m\u001b[0mpdf_path\u001b[0m\u001b[0;34m)\u001b[0m\u001b[0;34m:\u001b[0m\u001b[0;34m\u001b[0m\u001b[0;34m\u001b[0m\u001b[0m\n\u001b[1;32m     13\u001b[0m     \u001b[0mdoc\u001b[0m \u001b[0;34m=\u001b[0m \u001b[0mfitz\u001b[0m\u001b[0;34m.\u001b[0m\u001b[0mopen\u001b[0m\u001b[0;34m(\u001b[0m\u001b[0mpdf_path\u001b[0m\u001b[0;34m)\u001b[0m\u001b[0;34m\u001b[0m\u001b[0;34m\u001b[0m\u001b[0m\n\u001b[0;32m---> 14\u001b[0;31m     \u001b[0;32mreturn\u001b[0m \u001b[0;34m\"\\n\"\u001b[0m\u001b[0;34m.\u001b[0m\u001b[0mjoin\u001b[0m\u001b[0;34m(\u001b[0m\u001b[0mpage\u001b[0m\u001b[0;34m.\u001b[0m\u001b[0mget_text\u001b[0m\u001b[0;34m(\u001b[0m\u001b[0;34m)\u001b[0m \u001b[0;32mfor\u001b[0m \u001b[0mpage\u001b[0m \u001b[0;32min\u001b[0m \u001b[0mdoc\u001b[0m\u001b[0;34m)\u001b[0m\u001b[0;34m\u001b[0m\u001b[0;34m\u001b[0m\u001b[0m\n\u001b[0m\u001b[1;32m     15\u001b[0m \u001b[0;34m\u001b[0m\u001b[0m\n\u001b[1;32m     16\u001b[0m \u001b[0;31m# ✅ Clean up GPT response\u001b[0m\u001b[0;34m\u001b[0m\u001b[0;34m\u001b[0m\u001b[0m\n",
            "\u001b[0;32m<ipython-input-2-3b89a25bf212>\u001b[0m in \u001b[0;36m<genexpr>\u001b[0;34m(.0)\u001b[0m\n\u001b[1;32m     12\u001b[0m \u001b[0;32mdef\u001b[0m \u001b[0mextract_text_pymupdf\u001b[0m\u001b[0;34m(\u001b[0m\u001b[0mpdf_path\u001b[0m\u001b[0;34m)\u001b[0m\u001b[0;34m:\u001b[0m\u001b[0;34m\u001b[0m\u001b[0;34m\u001b[0m\u001b[0m\n\u001b[1;32m     13\u001b[0m     \u001b[0mdoc\u001b[0m \u001b[0;34m=\u001b[0m \u001b[0mfitz\u001b[0m\u001b[0;34m.\u001b[0m\u001b[0mopen\u001b[0m\u001b[0;34m(\u001b[0m\u001b[0mpdf_path\u001b[0m\u001b[0;34m)\u001b[0m\u001b[0;34m\u001b[0m\u001b[0;34m\u001b[0m\u001b[0m\n\u001b[0;32m---> 14\u001b[0;31m     \u001b[0;32mreturn\u001b[0m \u001b[0;34m\"\\n\"\u001b[0m\u001b[0;34m.\u001b[0m\u001b[0mjoin\u001b[0m\u001b[0;34m(\u001b[0m\u001b[0mpage\u001b[0m\u001b[0;34m.\u001b[0m\u001b[0mget_text\u001b[0m\u001b[0;34m(\u001b[0m\u001b[0;34m)\u001b[0m \u001b[0;32mfor\u001b[0m \u001b[0mpage\u001b[0m \u001b[0;32min\u001b[0m \u001b[0mdoc\u001b[0m\u001b[0;34m)\u001b[0m\u001b[0;34m\u001b[0m\u001b[0;34m\u001b[0m\u001b[0m\n\u001b[0m\u001b[1;32m     15\u001b[0m \u001b[0;34m\u001b[0m\u001b[0m\n\u001b[1;32m     16\u001b[0m \u001b[0;31m# ✅ Clean up GPT response\u001b[0m\u001b[0;34m\u001b[0m\u001b[0;34m\u001b[0m\u001b[0m\n",
            "\u001b[0;32m/usr/local/lib/python3.11/dist-packages/pymupdf/__init__.py\u001b[0m in \u001b[0;36m__getitem__\u001b[0;34m(self, i)\u001b[0m\n\u001b[1;32m   2862\u001b[0m         \u001b[0;32mif\u001b[0m \u001b[0mi\u001b[0m \u001b[0;32mnot\u001b[0m \u001b[0;32min\u001b[0m \u001b[0mself\u001b[0m\u001b[0;34m:\u001b[0m\u001b[0;34m\u001b[0m\u001b[0;34m\u001b[0m\u001b[0m\n\u001b[1;32m   2863\u001b[0m             \u001b[0;32mraise\u001b[0m \u001b[0mIndexError\u001b[0m\u001b[0;34m(\u001b[0m\u001b[0;34mf\"page {i} not in document\"\u001b[0m\u001b[0;34m)\u001b[0m\u001b[0;34m\u001b[0m\u001b[0;34m\u001b[0m\u001b[0m\n\u001b[0;32m-> 2864\u001b[0;31m         \u001b[0;32mreturn\u001b[0m \u001b[0mself\u001b[0m\u001b[0;34m.\u001b[0m\u001b[0mload_page\u001b[0m\u001b[0;34m(\u001b[0m\u001b[0mi\u001b[0m\u001b[0;34m)\u001b[0m\u001b[0;34m\u001b[0m\u001b[0;34m\u001b[0m\u001b[0m\n\u001b[0m\u001b[1;32m   2865\u001b[0m \u001b[0;34m\u001b[0m\u001b[0m\n\u001b[1;32m   2866\u001b[0m     \u001b[0;32mdef\u001b[0m \u001b[0m__init__\u001b[0m\u001b[0;34m(\u001b[0m\u001b[0mself\u001b[0m\u001b[0;34m,\u001b[0m \u001b[0mfilename\u001b[0m\u001b[0;34m=\u001b[0m\u001b[0;32mNone\u001b[0m\u001b[0;34m,\u001b[0m \u001b[0mstream\u001b[0m\u001b[0;34m=\u001b[0m\u001b[0;32mNone\u001b[0m\u001b[0;34m,\u001b[0m \u001b[0mfiletype\u001b[0m\u001b[0;34m=\u001b[0m\u001b[0;32mNone\u001b[0m\u001b[0;34m,\u001b[0m \u001b[0mrect\u001b[0m\u001b[0;34m=\u001b[0m\u001b[0;32mNone\u001b[0m\u001b[0;34m,\u001b[0m \u001b[0mwidth\u001b[0m\u001b[0;34m=\u001b[0m\u001b[0;36m0\u001b[0m\u001b[0;34m,\u001b[0m \u001b[0mheight\u001b[0m\u001b[0;34m=\u001b[0m\u001b[0;36m0\u001b[0m\u001b[0;34m,\u001b[0m \u001b[0mfontsize\u001b[0m\u001b[0;34m=\u001b[0m\u001b[0;36m11\u001b[0m\u001b[0;34m)\u001b[0m\u001b[0;34m:\u001b[0m\u001b[0;34m\u001b[0m\u001b[0;34m\u001b[0m\u001b[0m\n",
            "\u001b[0;32m/usr/local/lib/python3.11/dist-packages/pymupdf/__init__.py\u001b[0m in \u001b[0;36mload_page\u001b[0;34m(self, page_id)\u001b[0m\n\u001b[1;32m   4908\u001b[0m                 \u001b[0mpage_id\u001b[0m \u001b[0;34m+=\u001b[0m \u001b[0mnp\u001b[0m\u001b[0;34m\u001b[0m\u001b[0;34m\u001b[0m\u001b[0m\n\u001b[1;32m   4909\u001b[0m         \u001b[0;32mif\u001b[0m \u001b[0misinstance\u001b[0m\u001b[0;34m(\u001b[0m\u001b[0mpage_id\u001b[0m\u001b[0;34m,\u001b[0m \u001b[0mint\u001b[0m\u001b[0;34m)\u001b[0m\u001b[0;34m:\u001b[0m\u001b[0;34m\u001b[0m\u001b[0;34m\u001b[0m\u001b[0m\n\u001b[0;32m-> 4910\u001b[0;31m             \u001b[0mpage\u001b[0m \u001b[0;34m=\u001b[0m \u001b[0mmupdf\u001b[0m\u001b[0;34m.\u001b[0m\u001b[0mfz_load_page\u001b[0m\u001b[0;34m(\u001b[0m\u001b[0mself\u001b[0m\u001b[0;34m.\u001b[0m\u001b[0mthis\u001b[0m\u001b[0;34m,\u001b[0m \u001b[0mpage_id\u001b[0m\u001b[0;34m)\u001b[0m\u001b[0;34m\u001b[0m\u001b[0;34m\u001b[0m\u001b[0m\n\u001b[0m\u001b[1;32m   4911\u001b[0m         \u001b[0;32melse\u001b[0m\u001b[0;34m:\u001b[0m\u001b[0;34m\u001b[0m\u001b[0;34m\u001b[0m\u001b[0m\n\u001b[1;32m   4912\u001b[0m             \u001b[0mchapter\u001b[0m\u001b[0;34m,\u001b[0m \u001b[0mpagenum\u001b[0m \u001b[0;34m=\u001b[0m \u001b[0mpage_id\u001b[0m\u001b[0;34m\u001b[0m\u001b[0;34m\u001b[0m\u001b[0m\n",
            "\u001b[0;32m/usr/local/lib/python3.11/dist-packages/pymupdf/mupdf.py\u001b[0m in \u001b[0;36mfz_load_page\u001b[0;34m(doc, number)\u001b[0m\n\u001b[1;32m  46245\u001b[0m         \u001b[0mdocument\u001b[0m \u001b[0mtypes\u001b[0m\u001b[0;34m.\u001b[0m\u001b[0;34m\u001b[0m\u001b[0;34m\u001b[0m\u001b[0m\n\u001b[1;32m  46246\u001b[0m     \"\"\"\n\u001b[0;32m> 46247\u001b[0;31m     \u001b[0;32mreturn\u001b[0m \u001b[0m_mupdf\u001b[0m\u001b[0;34m.\u001b[0m\u001b[0mfz_load_page\u001b[0m\u001b[0;34m(\u001b[0m\u001b[0mdoc\u001b[0m\u001b[0;34m,\u001b[0m \u001b[0mnumber\u001b[0m\u001b[0;34m)\u001b[0m\u001b[0;34m\u001b[0m\u001b[0;34m\u001b[0m\u001b[0m\n\u001b[0m\u001b[1;32m  46248\u001b[0m \u001b[0;34m\u001b[0m\u001b[0m\n\u001b[1;32m  46249\u001b[0m \u001b[0;32mdef\u001b[0m \u001b[0mfz_load_pnm_subimage\u001b[0m\u001b[0;34m(\u001b[0m\u001b[0mbuf\u001b[0m\u001b[0;34m,\u001b[0m \u001b[0mlen\u001b[0m\u001b[0;34m,\u001b[0m \u001b[0msubimage\u001b[0m\u001b[0;34m)\u001b[0m\u001b[0;34m:\u001b[0m\u001b[0;34m\u001b[0m\u001b[0;34m\u001b[0m\u001b[0m\n",
            "\u001b[0;31mKeyboardInterrupt\u001b[0m: "
          ]
        }
      ]
    },
    {
      "cell_type": "markdown",
      "source": [
        "# Rio de Janeiro Findings"
      ],
      "metadata": {
        "id": "v29YhrvTo-tD"
      }
    },
    {
      "cell_type": "code",
      "source": [
        "# ✅ Batch process all PDFs in the folder\n",
        "folder_path = \"/content/drive/MyDrive/PNAE Gen AI Project/Menus for Rio De Janerio\"\n",
        "results_Rio_de_Janeiro = {}\n",
        "\n",
        "for filename in os.listdir(folder_path):\n",
        "    if filename.endswith(\".pdf\"):\n",
        "        pdf_path = os.path.join(folder_path, filename)\n",
        "        print(f\"\\n📄 Processing: {filename}\")\n",
        "\n",
        "        try:\n",
        "            raw_text = extract_text_pymupdf(pdf_path)\n",
        "            result = gpt_extract_food_counts_with_calories(raw_text)\n",
        "            results_Rio_de_Janeiro[filename] = result\n",
        "\n",
        "            # Optional: print result\n",
        "            for item, count in result.items():\n",
        "                print(f\"{item}: {count}x\")\n",
        "\n",
        "        except Exception as e:\n",
        "            print(f\"⚠️ Failed on {filename}: {e}\")"
      ],
      "metadata": {
        "id": "gUSAeiTjwCgz",
        "colab": {
          "base_uri": "https://localhost:8080/"
        },
        "outputId": "48e3c132-9966-459f-b205-f0b36037bdfe"
      },
      "execution_count": 11,
      "outputs": [
        {
          "output_type": "stream",
          "name": "stdout",
          "text": [
            "\n",
            "📄 Processing: Cardapio-Publicacao-DO-periodo-INVERNO-2025.pdf\n",
            "Leite batido com banana e aveia (36 kcal): 36x\n",
            "Arroz (130 kcal): 48x\n",
            "Feijão (90 kcal): 48x\n",
            "Ovo mexido ou omelete (90 kcal): 12x\n",
            "Chuchu com vagem sauté (30 kcal): 12x\n",
            "Sobr. fruta (60 kcal): 72x\n",
            "Leite com café (30 kcal): 12x\n",
            "Cuscuz de Tapioca (150 kcal): 12x\n",
            "Pão com manteiga (150 kcal): 24x\n",
            "Peixe (gratinado com aipim) (200 kcal): 12x\n",
            "Salada de cenoura ralada com tomate (40 kcal): 12x\n",
            "Frango oriental (cenoura, abobrinha e couve-flor) (180 kcal): 12x\n",
            "Batata sauté (120 kcal): 12x\n",
            "Leite batido com banana (90 kcal): 12x\n",
            "Arroz com cenoura (140 kcal): 12x\n",
            "Estrogonofe de frango (200 kcal): 12x\n",
            "Purê de batata doce (120 kcal): 12x\n",
            "Frango ensopado (180 kcal): 12x\n",
            "Leite batido com abacate (120 kcal): 12x\n",
            "Frango à caçadora (frango com cenoura) (190 kcal): 12x\n",
            "Aipim sauté (130 kcal): 12x\n",
            "Carne colorida (carne, cenoura e ovo) (220 kcal): 12x\n",
            "Batata doce assada (150 kcal): 12x\n",
            "Isca de fígado (180 kcal): 12x\n",
            "Purê de batata (120 kcal): 12x\n",
            "Fussilli colorido (cenoura e brócolis) (200 kcal): 12x\n",
            "Escondidinho de abóbora com abobrinha (160 kcal): 12x\n",
            "Frango ao molho (190 kcal): 12x\n",
            "Vagem refogada (50 kcal): 12x\n",
            "Beterraba cozida (60 kcal): 12x\n",
            "Omelete de legumes (repolho) (120 kcal): 12x\n",
            "Salada de abobrinha (40 kcal): 12x\n",
            "Iscas de fígado (180 kcal): 12x\n",
            "Farofa de couve (100 kcal): 12x\n",
            "Frango refogado (180 kcal): 12x\n",
            "Purê de inhame (130 kcal): 12x\n",
            "Cuscuz de tapioca (150 kcal): 12x\n",
            "Pão com ovo mexido (180 kcal): 12x\n",
            "Pão com ovo e cenoura (180 kcal): 12x\n",
            "Pão com pastinha de tomate e orégano (180 kcal): 12x\n",
            "Pão com frango, cenoura, maçã e cebola (180 kcal): 12x\n",
            "Arroz doce (150 kcal): 12x\n",
            "Canjica (200 kcal): 12x\n",
            "Leite batido com iogurte natural, maçã e banana (120 kcal): 12x\n",
            "Leite batido com banana e mamão (90 kcal): 12x\n",
            "Leite batido com banana e aveia (120 kcal): 12x\n",
            "Leite batido com maçã e aveia (120 kcal): 12x\n",
            "Suco integral (60 kcal): 12x\n",
            "Suco de maracujá com cenoura (50 kcal): 12x\n",
            "Suco de laranja com cenoura (50 kcal): 12x\n",
            "Limonada com hortelã (40 kcal): 12x\n",
            "Suco de maracujá com mamão (50 kcal): 12x\n"
          ]
        }
      ]
    },
    {
      "cell_type": "markdown",
      "source": [
        "# Espirito Santos Findings"
      ],
      "metadata": {
        "id": "v9pMZy6tuWlG"
      }
    },
    {
      "cell_type": "markdown",
      "source": [
        "## Nursuries"
      ],
      "metadata": {
        "id": "WD0SkXAfuyRT"
      }
    },
    {
      "cell_type": "code",
      "source": [],
      "metadata": {
        "id": "6FUF16hfn42D"
      },
      "execution_count": null,
      "outputs": []
    },
    {
      "cell_type": "markdown",
      "source": [
        "# State of Parana Findings"
      ],
      "metadata": {
        "id": "Gw75LtEExvti"
      }
    },
    {
      "cell_type": "code",
      "source": [
        "# ✅ Batch process all PDFs in the folder\n",
        "folder_path = \"/content/drive/MyDrive/PNAE Gen AI Project/Menus for Curitiba\"\n",
        "results_Curitiba = {}\n",
        "\n",
        "for filename in os.listdir(folder_path):\n",
        "    if filename.endswith(\".pdf\"):\n",
        "        pdf_path = os.path.join(folder_path, filename)\n",
        "        print(f\"\\n📄 Processing: {filename}\")\n",
        "\n",
        "        try:\n",
        "            raw_text = extract_text_pymupdf(pdf_path)\n",
        "            result = gpt_extract_food_counts_with_calories(raw_text)\n",
        "            results_Curitiba[filename] = result\n",
        "\n",
        "            # Optional: print result\n",
        "            for item, count in result.items():\n",
        "                print(f\"{item}: {count}x\")\n",
        "\n",
        "        except Exception as e:\n",
        "            print(f\"⚠️ Failed on {filename}: {e}\")"
      ],
      "metadata": {
        "colab": {
          "base_uri": "https://localhost:8080/"
        },
        "id": "2RgkKx8DxxN2",
        "outputId": "0c835202-127e-455b-f9e8-05d5aa8b8d39"
      },
      "execution_count": 12,
      "outputs": [
        {
          "output_type": "stream",
          "name": "stdout",
          "text": [
            "\n",
            "📄 Processing: 00519711.pdf\n",
            "SAGU DE UVA (150 kcal): 4x\n",
            "CREME DE LEITE (20 kcal): 4x\n",
            "BANANA (130 kcal): 8x\n",
            "SUCO POLPA DE ACEROLA (200 kcal): 4x\n",
            "PÃO DE MILHO (50 kcal): 4x\n",
            "CARNE MOÍDA PARA PÃO (60 kcal): 4x\n",
            "SUCO POLPA DE MAÇÃ (200 kcal): 4x\n",
            "SANDUÍCHE NATURAL (100 kcal): 4x\n",
            "MACARRÃO PARAFUSO (100 kcal): 8x\n",
            "MOLHO DE CARNE E ABÓBORA (50 kcal): 4x\n",
            "MELÃO FATIADO (150 kcal): 8x\n",
            "SOPA DE ARROZ COM FRANGO, BATATA E CENOURA (150 kcal): 8x\n",
            "MAÇÃ (100 kcal): 8x\n",
            "SUCO POLPA DE UVA (200 kcal): 16x\n",
            "BOLO DE MAÇÃ, AVEIA E CANELA (50 kcal): 8x\n",
            "ARROZ (40 kcal): 20x\n",
            "ISCAS DE CARNE E CENOURA (60 kcal): 8x\n",
            "SUCO POLPA DE ABACAXI (200 kcal): 4x\n",
            "PÃO DE LEITE (50 kcal): 8x\n",
            "CACHORRO QUENTE (70 kcal): 8x\n",
            "SOPA DE ARROZ COM CARNE, BATATA E COUVE (150 kcal): 8x\n",
            "SUCO POLPA DE MANGA (200 kcal): 4x\n",
            "PÃO DE AVEIA (50 kcal): 8x\n",
            "FRANGO PARA PÃO COM TOMATE (60 kcal): 8x\n",
            "CANJICA (200 kcal): 4x\n",
            "POLENTA (100 kcal): 8x\n",
            "ISCAS DE FRANGO REFOGADA COM BRÓCOLIS (60 kcal): 8x\n",
            "KIWI (80 kcal): 8x\n",
            "RISOTO DE CARNE E ABÓBORA (150 kcal): 8x\n",
            "PONKAN (120 kcal): 8x\n",
            "PÃO DE BATATA (50 kcal): 8x\n",
            "QUIRERA (100 kcal): 8x\n",
            "MOLHO DE FRANGO E CHUCHU (50 kcal): 8x\n",
            "CAQUI (120 kcal): 8x\n",
            "PÃO DE CENTEIO (50 kcal): 8x\n",
            "SOPA DE FUBÁ COM CARNE, BATATA, COUVE E ERVILHA (150 kcal): 8x\n",
            "BOLINHO DE CARNE AO SUGO (70 kcal): 8x\n",
            "SUCO POLPA DE LIMÃO (200 kcal): 8x\n",
            "ISCAS DE FRANGO REFOGADAS (80 kcal): 8x\n",
            "BETERRABA COZIDA (70 kcal): 4x\n"
          ]
        }
      ]
    },
    {
      "cell_type": "markdown",
      "source": [
        "# Menus for Pernambuco"
      ],
      "metadata": {
        "id": "53NszT993OjX"
      }
    },
    {
      "cell_type": "code",
      "source": [],
      "metadata": {
        "id": "CS77VPvyyO0W"
      },
      "execution_count": null,
      "outputs": []
    },
    {
      "cell_type": "markdown",
      "source": [
        "# Menus for Rio Grande do Sul"
      ],
      "metadata": {
        "id": "eU52FJoi69IX"
      }
    },
    {
      "cell_type": "code",
      "source": [
        "# ✅ Batch process all PDFs in the folder\n",
        "folder_path = \"/content/drive/MyDrive/PNAE Gen AI Project/Menus for Rio Grande De Sul\"\n",
        "results_Rio_Sul = {}\n",
        "\n",
        "for filename in os.listdir(folder_path):\n",
        "    if filename.endswith(\".pdf\"):\n",
        "        pdf_path = os.path.join(folder_path, filename)\n",
        "        print(f\"\\n📄 Processing: {filename}\")\n",
        "\n",
        "        try:\n",
        "            raw_text = extract_text_pymupdf(pdf_path)\n",
        "            result = gpt_extract_food_counts_with_calories(raw_text)\n",
        "            results_Rio_Sul[filename] = result\n",
        "\n",
        "            # Optional: print result\n",
        "            for item, count in result.items():\n",
        "                print(f\"{item}: {count}x\")\n",
        "\n",
        "        except Exception as e:\n",
        "            print(f\"⚠️ Failed on {filename}: {e}\")"
      ],
      "metadata": {
        "colab": {
          "base_uri": "https://localhost:8080/"
        },
        "id": "L1IrhFGj8klL",
        "outputId": "985671d1-7140-4087-c3f0-54db0a20d23a"
      },
      "execution_count": 13,
      "outputs": [
        {
          "output_type": "stream",
          "name": "stdout",
          "text": [
            "\n",
            "📄 Processing: jp_fev.pdf\n",
            "arroz (150 kcal): 5x\n",
            "feijão (100 kcal): 5x\n",
            "frango grelhado (200 kcal): 3x\n",
            "purê de batata (120 kcal): 4x\n",
            "salada de alface e tomate (50 kcal): 5x\n",
            "suco de laranja (80 kcal): 5x\n",
            "bife acebolado (250 kcal): 3x\n",
            "macarrão ao sugo (180 kcal): 4x\n",
            "legumes cozidos (70 kcal): 5x\n",
            "\n",
            "📄 Processing: ber_fev.pdf\n",
            "arroz (150 kcal): 5x\n",
            "feijão (100 kcal): 5x\n",
            "frango grelhado (200 kcal): 3x\n",
            "purê de batata (120 kcal): 4x\n",
            "salada de alface e tomate (50 kcal): 5x\n",
            "macarrão ao sugo (180 kcal): 3x\n",
            "peixe assado (180 kcal): 2x\n",
            "legumes cozidos (70 kcal): 4x\n",
            "suco de laranja (80 kcal): 5x\n",
            "banana (100 kcal): 5x\n",
            "pão de queijo (150 kcal): 3x\n",
            "\n",
            "📄 Processing: fund_fev.pdf\n",
            "arroz (150 kcal): 5x\n",
            "feijão (100 kcal): 5x\n",
            "frango grelhado (200 kcal): 3x\n",
            "purê de batata (120 kcal): 4x\n",
            "salada de alface e tomate (50 kcal): 5x\n",
            "macarrão com molho de tomate (180 kcal): 4x\n",
            "peixe assado (180 kcal): 2x\n",
            "legumes cozidos (70 kcal): 4x\n",
            "suco de laranja (80 kcal): 5x\n",
            "banana (100 kcal): 5x\n",
            "iogurte natural (60 kcal): 5x\n",
            "pão integral (80 kcal): 5x\n",
            "bolo de cenoura (150 kcal): 3x\n",
            "\n",
            "📄 Processing: inf_fev.pdf\n",
            "arroz (150 kcal): 5x\n",
            "feijão (100 kcal): 5x\n",
            "frango grelhado (200 kcal): 3x\n",
            "purê de batata (120 kcal): 4x\n",
            "salada de alface e tomate (50 kcal): 5x\n",
            "suco de laranja natural (80 kcal): 5x\n",
            "banana (100 kcal): 5x\n",
            "bolo de cenoura (150 kcal): 3x\n"
          ]
        }
      ]
    },
    {
      "cell_type": "code",
      "source": [
        "import pandas as pd\n",
        "import matplotlib.pyplot as plt\n",
        "\n",
        "spending_df = pd.read_excel(\"/content/drive/MyDrive/PNAE Gen AI Project/Planilha2022_04_3_24.xlsx\")\n",
        "\n",
        "# Clean and rename columns\n",
        "df_cleaned = spending_df.iloc[1:].copy()\n",
        "df_cleaned.columns = spending_df.iloc[0]\n",
        "df_cleaned = df_cleaned.dropna(subset=['Valor aquisições da agricultura familiar'])\n",
        "\n",
        "# Convert relevant columns to numeric\n",
        "df_cleaned['Valor aquisições da agricultura familiar'] = pd.to_numeric(\n",
        "    df_cleaned['Valor aquisições da agricultura familiar'], errors='coerce')\n",
        "df_cleaned['UF'] = df_cleaned['UF'].astype(str)\n",
        "\n",
        "# Aggregate spending by state (UF)\n",
        "state_agg = df_cleaned.groupby('UF')['Valor aquisições da agricultura familiar'].sum().sort_values(ascending=False)\n",
        "\n",
        "# Plotting\n",
        "plt.figure(figsize=(10, 6))\n",
        "state_agg.plot(kind='bar')\n",
        "plt.title('Total Spending on Family Farming by State (2022)')\n",
        "plt.xlabel('State (UF)')\n",
        "plt.ylabel('Amount (R$)')\n",
        "plt.xticks(rotation=45)\n",
        "plt.grid(axis='y')\n",
        "plt.tight_layout()\n",
        "plt.show()"
      ],
      "metadata": {
        "colab": {
          "base_uri": "https://localhost:8080/",
          "height": 607
        },
        "id": "BFvxzlXK8zTA",
        "outputId": "c1275f06-0e0f-4322-ab84-5c72313b673e"
      },
      "execution_count": 3,
      "outputs": [
        {
          "output_type": "display_data",
          "data": {
            "text/plain": [
              "<Figure size 1000x600 with 1 Axes>"
            ],
            "image/png": "[encoded data removed]"
          },
          "metadata": {}
        }
      ]
    },
    {
      "cell_type": "code",
      "source": [],
      "metadata": {
        "id": "d_zeys1x4Ayx"
      },
      "execution_count": null,
      "outputs": []
    }
  ]
}